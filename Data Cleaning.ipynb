{
 "cells": [
  {
   "cell_type": "markdown",
   "metadata": {},
   "source": [
    "# Group member\n",
    "\n",
    "**Name:** Shilong Yin  \n",
    "**UNI:** sy2792\n",
    "\n",
    "**Name:** Diwei Xiong  \n",
    "**UNI:** dx2183"
   ]
  },
  {
   "cell_type": "markdown",
   "metadata": {},
   "source": [
    "## Introduction  \n",
    "This file is for the use of cleaning dataset from: https://www.kaggle.com/paultimothymooney/blood-cells. The original dataset is divided into 4 folders, each stands for a different cell type, for both train and test data. And there are some duplicate pictures in these files (different files from different classes but with the same name). Now the dataset is merged into only two files: train and test, and delete the images with same names. Two csv files with image id and its label is created for later reference."
   ]
  },
  {
   "cell_type": "code",
   "execution_count": 1,
   "metadata": {},
   "outputs": [],
   "source": [
    "import numpy as np\n",
    "import pandas as pd\n",
    "import os\n",
    "from tqdm import tqdm"
   ]
  },
  {
   "cell_type": "markdown",
   "metadata": {},
   "source": [
    "Project the type of blood cells to numerical labels:  \n",
    "**1: Neutrophil  \n",
    "2: Eosinophil  \n",
    "3: Monocyte  \n",
    "4: Lymphocyte**"
   ]
  },
  {
   "cell_type": "code",
   "execution_count": 2,
   "metadata": {},
   "outputs": [],
   "source": [
    "dict_characters = {'NEUTROPHIL':0,'EOSINOPHIL':1,'MONOCYTE':2,'LYMPHOCYTE':3}"
   ]
  },
  {
   "cell_type": "markdown",
   "metadata": {},
   "source": [
    "## Merge data\n",
    "\n",
    "Search all files in four folders, store the file names in X and corresponding labels in Y."
   ]
  },
  {
   "cell_type": "code",
   "execution_count": 3,
   "metadata": {},
   "outputs": [],
   "source": [
    "# Store file names and labels in vectors\n",
    "\n",
    "def merge(path):\n",
    "    X = []  # vectors containing file names\n",
    "    Y = []  # vectors containing labels\n",
    "    \n",
    "    for wbc_type in os.listdir(path):\n",
    "        if wbc_type == 'NEUTROPHIL':\n",
    "            label = dict_characters['NEUTROPHIL']\n",
    "        elif wbc_type == 'EOSINOPHIL':\n",
    "            label = dict_characters['EOSINOPHIL']\n",
    "        elif wbc_type == 'MONOCYTE':\n",
    "            label = dict_characters['MONOCYTE']\n",
    "        elif wbc_type == 'LYMPHOCYTE':\n",
    "            label = dict_characters['LYMPHOCYTE']\n",
    "        for image_filename in tqdm(os.listdir(path + wbc_type)):\n",
    "            X.append(image_filename)\n",
    "            Y.append(label)\n",
    "      \n",
    "    return X,Y"
   ]
  },
  {
   "cell_type": "code",
   "execution_count": 4,
   "metadata": {},
   "outputs": [
    {
     "name": "stderr",
     "output_type": "stream",
     "text": [
      "100%|██████████| 2497/2497 [00:00<00:00, 2583418.13it/s]\n",
      "100%|██████████| 2483/2483 [00:00<00:00, 2486143.91it/s]\n",
      "100%|██████████| 2478/2478 [00:00<00:00, 1255706.82it/s]\n",
      "100%|██████████| 2499/2499 [00:00<00:00, 2498585.39it/s]\n",
      "100%|██████████| 623/623 [00:00<?, ?it/s]\n",
      "100%|██████████| 620/620 [00:00<00:00, 621824.12it/s]\n",
      "100%|██████████| 620/620 [00:00<?, ?it/s]\n",
      "100%|██████████| 624/624 [00:00<?, ?it/s]\n"
     ]
    }
   ],
   "source": [
    "train_dir = './bcc/TRAIN/'\n",
    "test_dir = './bcc/TEST/'\n",
    "\n",
    "X_train,Y_train = merge(train_dir)\n",
    "X_test,Y_test = merge(test_dir)"
   ]
  },
  {
   "cell_type": "markdown",
   "metadata": {},
   "source": [
    "## Delete duplicate data\n",
    "\n",
    "Delete files with duplicate names to avoid confusion.  \n",
    "\n",
    "At the same time, merge images from four folders in file explorer and only retain the first with the same name."
   ]
  },
  {
   "cell_type": "code",
   "execution_count": 5,
   "metadata": {},
   "outputs": [],
   "source": [
    "train_dataset = pd.DataFrame({'id':X_train,'label':Y_train})\n",
    "train_dataset = train_dataset.drop_duplicates('id','first')  # Only retain the first file with the same name\n",
    "\n",
    "test_dataset = pd.DataFrame({'id':X_test,'label':Y_test})\n",
    "test_dataset = test_dataset.drop_duplicates('id','first')"
   ]
  },
  {
   "cell_type": "code",
   "execution_count": 6,
   "metadata": {},
   "outputs": [
    {
     "data": {
      "text/html": [
       "<div>\n",
       "<style scoped>\n",
       "    .dataframe tbody tr th:only-of-type {\n",
       "        vertical-align: middle;\n",
       "    }\n",
       "\n",
       "    .dataframe tbody tr th {\n",
       "        vertical-align: top;\n",
       "    }\n",
       "\n",
       "    .dataframe thead th {\n",
       "        text-align: right;\n",
       "    }\n",
       "</style>\n",
       "<table border=\"1\" class=\"dataframe\">\n",
       "  <thead>\n",
       "    <tr style=\"text-align: right;\">\n",
       "      <th></th>\n",
       "      <th>id</th>\n",
       "      <th>label</th>\n",
       "    </tr>\n",
       "  </thead>\n",
       "  <tbody>\n",
       "    <tr>\n",
       "      <th>0</th>\n",
       "      <td>_0_1169.jpeg</td>\n",
       "      <td>1</td>\n",
       "    </tr>\n",
       "    <tr>\n",
       "      <th>1</th>\n",
       "      <td>_0_1414.jpeg</td>\n",
       "      <td>1</td>\n",
       "    </tr>\n",
       "    <tr>\n",
       "      <th>2</th>\n",
       "      <td>_0_207.jpeg</td>\n",
       "      <td>1</td>\n",
       "    </tr>\n",
       "    <tr>\n",
       "      <th>3</th>\n",
       "      <td>_0_2142.jpeg</td>\n",
       "      <td>1</td>\n",
       "    </tr>\n",
       "    <tr>\n",
       "      <th>4</th>\n",
       "      <td>_0_2370.jpeg</td>\n",
       "      <td>1</td>\n",
       "    </tr>\n",
       "  </tbody>\n",
       "</table>\n",
       "</div>"
      ],
      "text/plain": [
       "             id  label\n",
       "0  _0_1169.jpeg      1\n",
       "1  _0_1414.jpeg      1\n",
       "2   _0_207.jpeg      1\n",
       "3  _0_2142.jpeg      1\n",
       "4  _0_2370.jpeg      1"
      ]
     },
     "execution_count": 6,
     "metadata": {},
     "output_type": "execute_result"
    }
   ],
   "source": [
    "train_dataset.head()"
   ]
  },
  {
   "cell_type": "code",
   "execution_count": 7,
   "metadata": {},
   "outputs": [
    {
     "data": {
      "text/html": [
       "<div>\n",
       "<style scoped>\n",
       "    .dataframe tbody tr th:only-of-type {\n",
       "        vertical-align: middle;\n",
       "    }\n",
       "\n",
       "    .dataframe tbody tr th {\n",
       "        vertical-align: top;\n",
       "    }\n",
       "\n",
       "    .dataframe thead th {\n",
       "        text-align: right;\n",
       "    }\n",
       "</style>\n",
       "<table border=\"1\" class=\"dataframe\">\n",
       "  <thead>\n",
       "    <tr style=\"text-align: right;\">\n",
       "      <th></th>\n",
       "      <th>id</th>\n",
       "      <th>label</th>\n",
       "    </tr>\n",
       "  </thead>\n",
       "  <tbody>\n",
       "    <tr>\n",
       "      <th>0</th>\n",
       "      <td>_0_1616.jpeg</td>\n",
       "      <td>1</td>\n",
       "    </tr>\n",
       "    <tr>\n",
       "      <th>1</th>\n",
       "      <td>_0_1794.jpeg</td>\n",
       "      <td>1</td>\n",
       "    </tr>\n",
       "    <tr>\n",
       "      <th>2</th>\n",
       "      <td>_0_1845.jpeg</td>\n",
       "      <td>1</td>\n",
       "    </tr>\n",
       "    <tr>\n",
       "      <th>3</th>\n",
       "      <td>_0_187.jpeg</td>\n",
       "      <td>1</td>\n",
       "    </tr>\n",
       "    <tr>\n",
       "      <th>4</th>\n",
       "      <td>_0_196.jpeg</td>\n",
       "      <td>1</td>\n",
       "    </tr>\n",
       "  </tbody>\n",
       "</table>\n",
       "</div>"
      ],
      "text/plain": [
       "             id  label\n",
       "0  _0_1616.jpeg      1\n",
       "1  _0_1794.jpeg      1\n",
       "2  _0_1845.jpeg      1\n",
       "3   _0_187.jpeg      1\n",
       "4   _0_196.jpeg      1"
      ]
     },
     "execution_count": 7,
     "metadata": {},
     "output_type": "execute_result"
    }
   ],
   "source": [
    "test_dataset.head()"
   ]
  },
  {
   "cell_type": "code",
   "execution_count": 8,
   "metadata": {},
   "outputs": [
    {
     "name": "stdout",
     "output_type": "stream",
     "text": [
      "Data is clean.\n"
     ]
    }
   ],
   "source": [
    "if len(train_dataset['id']) == train_dataset['id'].nunique() and len(test_dataset['id']) == test_dataset['id'].nunique():\n",
    "    print('Data is clean.')  # Make sure that all the file names in dataset is unique"
   ]
  },
  {
   "cell_type": "markdown",
   "metadata": {},
   "source": [
    "## Output .csv file\n",
    "\n",
    "Save the clean datasets to csv files."
   ]
  },
  {
   "cell_type": "code",
   "execution_count": 9,
   "metadata": {},
   "outputs": [],
   "source": [
    "train_dataset.to_csv('train.csv',index = False)\n",
    "test_dataset.to_csv('test.csv',index = False)"
   ]
  }
 ],
 "metadata": {
  "kernelspec": {
   "display_name": "Python 3",
   "language": "python",
   "name": "python3"
  },
  "language_info": {
   "codemirror_mode": {
    "name": "ipython",
    "version": 3
   },
   "file_extension": ".py",
   "mimetype": "text/x-python",
   "name": "python",
   "nbconvert_exporter": "python",
   "pygments_lexer": "ipython3",
   "version": "3.6.8"
  }
 },
 "nbformat": 4,
 "nbformat_minor": 2
}
