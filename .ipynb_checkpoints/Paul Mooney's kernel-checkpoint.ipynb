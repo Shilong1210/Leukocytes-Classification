{
 "cells": [
  {
   "cell_type": "markdown",
   "metadata": {
    "_cell_guid": "1be33d58-8f52-492a-80fe-1c5739d90cc1",
    "_uuid": "f33128e9df5beb4a6b861d18cff918263aee5706"
   },
   "source": [
    "# Identify Blood Cell Subtypes From Images\n",
    "* Basophil vs Eosinophil vs Lymphocyte vs Monocyte vs Neutrophil\n",
    "* Mononuclear (Basophil + Lymphocyte vs Monocyte) vs Polynuclear (Neutrophil + Eosinophil)"
   ]
  },
  {
   "cell_type": "markdown",
   "metadata": {
    "_cell_guid": "6ee7ca72-eed3-4300-9012-2958b19414ae",
    "_kg_hide-input": true,
    "_uuid": "344dd6c8bfbbcaf4841e83ade055b46052738d3b"
   },
   "source": [
    "An important problem in blood diagnostics is classifying different types of blood cells.  Here we have 410 original images and 12,500 augmented images of blood cells paired with subtype labels (Basophil vs Eosinophil vs Lymphocyte vs Monocyte vs Neutrophil).  We want to automatically classify each image according to the subtype of cells within it.\n",
    "\n",
    "For more information about blood cells and blood cell subtypes, see the following links:\n",
    "https://www.ncbi.nlm.nih.gov/books/NBK2263/ and https://www.ncbi.nlm.nih.gov/books/NBK2263/box/A26/?report=objectonly"
   ]
  },
  {
   "cell_type": "markdown",
   "metadata": {
    "_cell_guid": "4c4fc746-f927-4c75-aff6-1668859b5af7",
    "_uuid": "1efa6a71d94e6249038cce565253af17122b0233"
   },
   "source": [
    "*Step One: Import Modules*"
   ]
  },
  {
   "cell_type": "code",
   "execution_count": null,
   "metadata": {
    "_cell_guid": "ec165361-cd73-4ab4-9d69-4eef15b4a140",
    "_kg_hide-input": true,
    "_kg_hide-output": true,
    "_uuid": "42cb0471e99f002e828d7c03b49095b127923dd7"
   },
   "outputs": [],
   "source": [
    "import numpy as np\n",
    "import pandas as pd\n",
    "from keras.models import Sequential\n",
    "from keras.layers import Dense, Dropout, Activation, Flatten, Conv2D, MaxPooling2D, Lambda, MaxPool2D, BatchNormalization\n",
    "from keras.utils import np_utils\n",
    "from keras.preprocessing.image import ImageDataGenerator\n",
    "from keras.optimizers import RMSprop\n",
    "from sklearn.preprocessing import LabelEncoder\n",
    "from sklearn.cross_validation import train_test_split\n",
    "from sklearn.metrics import confusion_matrix\n",
    "from sklearn.metrics import accuracy_score\n",
    "import xml.etree.ElementTree as ET\n",
    "import sklearn\n",
    "import itertools\n",
    "import cv2\n",
    "import scipy\n",
    "import os\n",
    "import csv\n",
    "import matplotlib.pyplot as plt\n",
    "%matplotlib inline"
   ]
  },
  {
   "cell_type": "markdown",
   "metadata": {
    "_cell_guid": "d8c9fca2-2dfc-4f73-8d03-d0a1ed7ca8c3",
    "_uuid": "419e66d790e78d2f0811856dd7bd83042dfc6d22"
   },
   "source": [
    "*Step Two: Plot Data*"
   ]
  },
  {
   "cell_type": "code",
   "execution_count": null,
   "metadata": {
    "_cell_guid": "b663c9fc-2ad4-494a-9afb-b54243407308",
    "_uuid": "4f3c8750be1d09b9f7d166e9c9472020bc149264",
    "collapsed": true
   },
   "outputs": [],
   "source": [
    "dict_characters = {1:'NEUTROPHIL',2:'EOSINOPHIL',3:'MONOCYTE',4:'LYMPHOCYTE'}\n",
    "dict_characters2 = {0:'Mononuclear',1:'Polynuclear'}"
   ]
  },
  {
   "cell_type": "code",
   "execution_count": null,
   "metadata": {
    "_cell_guid": "4f2eff3c-247b-45c2-93ae-67779edaefb3",
    "_kg_hide-input": true,
    "_uuid": "a58aec3bc009ac2d90fb011baeaffdf56eb812c1"
   },
   "outputs": [],
   "source": [
    "# Note that the function below is adapted from https://github.com/Shenggan/BCCD_Dataset\n",
    "image = cv2.imread(\"../input/dataset-master/dataset-master/JPEGImages/BloodImage_00022.jpg\")\n",
    "tree = ET.parse(\"../input/dataset-master/dataset-master/Annotations/BloodImage_00022.xml\")\n",
    "for elem in tree.iter():\n",
    "    if 'object' in elem.tag or 'part' in elem.tag:\n",
    "        for attr in list(elem):\n",
    "            if 'name' in attr.tag:\n",
    "                name = attr.text\n",
    "            if 'bndbox' in attr.tag:\n",
    "                for dim in list(attr):\n",
    "                    if 'xmin' in dim.tag:\n",
    "                        xmin = int(round(float(dim.text)))\n",
    "                    if 'ymin' in dim.tag:\n",
    "                        ymin = int(round(float(dim.text)))\n",
    "                    if 'xmax' in dim.tag:\n",
    "                        xmax = int(round(float(dim.text)))\n",
    "                    if 'ymax' in dim.tag:\n",
    "                        ymax = int(round(float(dim.text)))\n",
    "                if name[0] == \"R\":\n",
    "                    cv2.rectangle(image, (xmin, ymin),\n",
    "                                (xmax, ymax), (0, 255, 0), 1)\n",
    "                    cv2.putText(image, name, (xmin + 10, ymin + 15),\n",
    "                            cv2.FONT_HERSHEY_SIMPLEX, 1e-3 * image.shape[0], (0, 255, 0), 1)\n",
    "                if name[0] == \"W\":\n",
    "                    cv2.rectangle(image, (xmin, ymin),\n",
    "                                (xmax, ymax), (0, 0, 255), 1)\n",
    "                    cv2.putText(image, name, (xmin + 10, ymin + 15),\n",
    "                            cv2.FONT_HERSHEY_SIMPLEX, 1e-3 * image.shape[0], (0, 0, 255), 1)\n",
    "                if name[0] == \"P\":\n",
    "                    cv2.rectangle(image, (xmin, ymin),\n",
    "                                (xmax, ymax), (255, 0, 0), 1)\n",
    "                    cv2.putText(image, name, (xmin + 10, ymin + 15),\n",
    "                            cv2.FONT_HERSHEY_SIMPLEX, 1e-3 * image.shape[0], (255, 0, 0), 1)\n",
    "plt.figure(figsize=(16,16))\n",
    "plt.imshow(image)\n",
    "plt.show()"
   ]
  },
  {
   "cell_type": "code",
   "execution_count": null,
   "metadata": {
    "_cell_guid": "5e3bf03a-5800-4d03-b9df-1d1ed58b142a",
    "_kg_hide-input": false,
    "_uuid": "3758d80689c957c3279d3520c4145107dd094585"
   },
   "outputs": [],
   "source": [
    "# Plot Image\n",
    "def plotImage(image_location):\n",
    "    image = cv2.imread(image_name)\n",
    "    plt.imshow(image)\n",
    "    return\n",
    "image_name = '../input/dataset2-master/dataset2-master/images/TRAIN/EOSINOPHIL/_0_207.jpeg'\n",
    "plt.figure(figsize=(16,16))\n",
    "plt.subplot(221)\n",
    "plt.title('Eosinophil')\n",
    "plt.axis('off') \n",
    "plotImage(image_name)\n",
    "image_name = '../input/dataset2-master/dataset2-master/images/TRAIN/LYMPHOCYTE/_0_204.jpeg'\n",
    "plt.subplot(222)\n",
    "plt.title('Lymphocyte')\n",
    "plt.axis('off') \n",
    "plotImage(image_name)\n",
    "image_name = '../input/dataset2-master/dataset2-master/images/TRAIN/MONOCYTE/_0_180.jpeg'\n",
    "plt.subplot(223)\n",
    "plt.title('Monocyte')\n",
    "plt.axis('off') \n",
    "plotImage(image_name)\n",
    "plt.subplot(224)\n",
    "image_name = '../input/dataset2-master/dataset2-master/images/TRAIN/NEUTROPHIL/_0_292.jpeg'\n",
    "plt.title('Neutrophil')\n",
    "plt.axis('off') \n",
    "plotImage(image_name)"
   ]
  },
  {
   "cell_type": "markdown",
   "metadata": {
    "_cell_guid": "6327287d-6818-4814-97db-42c5d80c06d4",
    "_uuid": "737d2608af5c8bbe72529f08068f10ac2ef6946d"
   },
   "source": [
    "*Step Three: Describe Data*"
   ]
  },
  {
   "cell_type": "code",
   "execution_count": null,
   "metadata": {
    "_cell_guid": "ec3a20a5-8709-45df-b3ee-23f424272e3b",
    "_kg_hide-input": false,
    "_uuid": "526b4aa5dde48e2489438acc06bf138077353b9f"
   },
   "outputs": [],
   "source": [
    "reader = csv.reader(open('../input/dataset2-master/dataset2-master/labels.csv'))\n",
    "# skip the header\n",
    "next(reader)\n",
    "X3 = []\n",
    "y3 = []\n",
    "for row in reader:\n",
    "    label = row[2]\n",
    "    if len(label) > 0 and label.find(',') == -1:\n",
    "        y3.append(label)\n",
    "y3 = np.asarray(y3)\n",
    "encoder = LabelEncoder()\n",
    "encoder.fit(y3)\n",
    "encoded_y = encoder.transform(y3)\n",
    "counts = np.bincount(encoded_y)\n",
    "print(counts)\n",
    "fig, ax = plt.subplots()\n",
    "plt.bar(list(range(5)), counts)\n",
    "ax.set_xticklabels(('', 'Basophil', 'Eosinophil', 'Lymphocyte', 'Monocyte', 'Neutrophil'))\n",
    "ax.set_ylabel('Counts')"
   ]
  },
  {
   "cell_type": "markdown",
   "metadata": {
    "_cell_guid": "43d88f20-3a5a-4f87-a245-75cb1d8a3fca",
    "_uuid": "ddef4d84f9383a6d245c32b9727859758de55c31"
   },
   "source": [
    "Here you can see that with the original images we have imbalanced class sizes.  We will use the augmented images instead because they no longer have imbalanced class sizes due to oversampling."
   ]
  },
  {
   "cell_type": "markdown",
   "metadata": {
    "_cell_guid": "7a64ef64-0557-4a5c-9bbc-37e1acac716c",
    "_uuid": "c434ee86d5239ddadb82544a1fd67d3e16ea7987"
   },
   "source": [
    "*Step Four: Load Augmented Dataset*"
   ]
  },
  {
   "cell_type": "code",
   "execution_count": null,
   "metadata": {
    "_cell_guid": "900b7954-3d00-484c-884e-bf8c29ebb161",
    "_uuid": "dfbf2904f4a4bbf1aff8482faff0ea36bd2ac704"
   },
   "outputs": [],
   "source": [
    "from tqdm import tqdm\n",
    "def get_data(folder):\n",
    "    \"\"\"\n",
    "    Load the data and labels from the given folder.\n",
    "    \"\"\"\n",
    "    X = []\n",
    "    y = []\n",
    "    z = []\n",
    "    for wbc_type in os.listdir(folder):\n",
    "        if not wbc_type.startswith('.'):\n",
    "            if wbc_type in ['NEUTROPHIL']:\n",
    "                label = 1\n",
    "                label2 = 1\n",
    "            elif wbc_type in ['EOSINOPHIL']:\n",
    "                label = 2\n",
    "                label2 = 1\n",
    "            elif wbc_type in ['MONOCYTE']:\n",
    "                label = 3  \n",
    "                label2 = 0\n",
    "            elif wbc_type in ['LYMPHOCYTE']:\n",
    "                label = 4 \n",
    "                label2 = 0\n",
    "            else:\n",
    "                label = 5\n",
    "                label2 = 0\n",
    "            for image_filename in tqdm(os.listdir(folder + wbc_type)):\n",
    "                img_file = cv2.imread(folder + wbc_type + '/' + image_filename)\n",
    "                if img_file is not None:\n",
    "                    img_file = scipy.misc.imresize(arr=img_file, size=(60, 80, 3))\n",
    "                    img_arr = np.asarray(img_file)\n",
    "                    X.append(img_arr)\n",
    "                    y.append(label)\n",
    "                    z.append(label2)\n",
    "    X = np.asarray(X)\n",
    "    y = np.asarray(y)\n",
    "    z = np.asarray(z)\n",
    "    return X,y,z\n",
    "X_train, y_train, z_train = get_data('../input/dataset2-master/dataset2-master/images/TRAIN/')\n",
    "X_test, y_test, z_test = get_data('../input/dataset2-master/dataset2-master/images/TEST/')\n",
    "\n",
    "# Encode labels to hot vectors (ex : 2 -> [0,0,1,0,0,0,0,0,0,0])\n",
    "from keras.utils.np_utils import to_categorical\n",
    "y_trainHot = to_categorical(y_train, num_classes = 5)\n",
    "y_testHot = to_categorical(y_test, num_classes = 5)\n",
    "z_trainHot = to_categorical(z_train, num_classes = 2)\n",
    "z_testHot = to_categorical(z_test, num_classes = 2)\n",
    "print(dict_characters)\n",
    "print(dict_characters2)"
   ]
  },
  {
   "cell_type": "markdown",
   "metadata": {
    "_cell_guid": "463eed10-d1ab-416e-a546-ce85064053b4",
    "_uuid": "f3c8f6b92a1e8252c417e99d917793f33d0eacd6"
   },
   "source": [
    "*Step Five: Describe Augmented Dataset*"
   ]
  },
  {
   "cell_type": "code",
   "execution_count": null,
   "metadata": {
    "_cell_guid": "53f3dcd1-b88f-4ad4-9dd4-0b10c43c91e0",
    "_uuid": "4b0bd97025ad2afe72309fbd7c9b406b14c9907e"
   },
   "outputs": [],
   "source": [
    "import seaborn as sns\n",
    "df = pd.DataFrame()\n",
    "df[\"labels\"]=y_train\n",
    "lab = df['labels']\n",
    "dist = lab.value_counts()\n",
    "sns.countplot(lab)\n",
    "print(dict_characters)"
   ]
  },
  {
   "cell_type": "code",
   "execution_count": null,
   "metadata": {
    "_cell_guid": "e43cc649-ec5d-4a28-adad-0221a9dd8c87",
    "_uuid": "84a4c8ae225baf4f6d4703ddc038f35af3510904"
   },
   "outputs": [],
   "source": [
    "def plotHistogram(a):\n",
    "    \"\"\"\n",
    "    Plot histogram of RGB Pixel Intensities\n",
    "    \"\"\"\n",
    "    plt.figure(figsize=(10,5))\n",
    "    plt.subplot(1,2,1)\n",
    "    plt.imshow(a)\n",
    "    plt.axis('off')\n",
    "    histo = plt.subplot(1,2,2)\n",
    "    histo.set_ylabel('Count')\n",
    "    histo.set_xlabel('Pixel Intensity')\n",
    "    n_bins = 30\n",
    "    plt.hist(a[:,:,0].flatten(), bins= n_bins, lw = 0, color='r', alpha=0.5);\n",
    "    plt.hist(a[:,:,1].flatten(), bins= n_bins, lw = 0, color='g', alpha=0.5);\n",
    "    plt.hist(a[:,:,2].flatten(), bins= n_bins, lw = 0, color='b', alpha=0.5);\n",
    "plotHistogram(X_train[1])"
   ]
  },
  {
   "cell_type": "markdown",
   "metadata": {
    "_cell_guid": "5995dfca-7eee-48bf-b576-f2bcecfa7ca7",
    "_uuid": "c8bcffa053d53240a6f1b1c849c7495d032729aa"
   },
   "source": [
    "*Step Six: Preprocess Data*"
   ]
  },
  {
   "cell_type": "code",
   "execution_count": null,
   "metadata": {
    "_cell_guid": "9a752910-d3a0-452d-8fcf-9ec8a9f8098f",
    "_uuid": "7e110e88f8924fe49b3a1ac9d80efaebd74abbdb",
    "collapsed": true
   },
   "outputs": [],
   "source": [
    "X_train=np.array(X_train)\n",
    "X_train=X_train/255.0\n",
    "\n",
    "X_test=np.array(X_test)\n",
    "X_test=X_test/255.0"
   ]
  },
  {
   "cell_type": "code",
   "execution_count": null,
   "metadata": {
    "_cell_guid": "1fae50ed-31c2-4c87-9ffd-c49cf79af81a",
    "_uuid": "21007401f0f9a63240cecbfd1b4f824ab5a56b92"
   },
   "outputs": [],
   "source": [
    "plotHistogram(X_train[1])"
   ]
  },
  {
   "cell_type": "markdown",
   "metadata": {
    "_cell_guid": "b6da09e8-ceee-4b20-86d6-fa412deab860",
    "_uuid": "0f987fb6e486f434ffb89008c826b4ad9121d81f"
   },
   "source": [
    "*Step Seven: Define Helper Functions*"
   ]
  },
  {
   "cell_type": "code",
   "execution_count": null,
   "metadata": {
    "_cell_guid": "360a74fd-cdfa-44f9-8e8d-c0bd28997792",
    "_uuid": "151eae55e483362869eeafc432209a91047a2eb9",
    "collapsed": true
   },
   "outputs": [],
   "source": [
    "# Helper Functions  Learning Curves and Confusion Matrix\n",
    "\n",
    "from keras.callbacks import Callback, EarlyStopping, ReduceLROnPlateau, ModelCheckpoint\n",
    "\n",
    "class MetricsCheckpoint(Callback):\n",
    "    \"\"\"Callback that saves metrics after each epoch\"\"\"\n",
    "    def __init__(self, savepath):\n",
    "        super(MetricsCheckpoint, self).__init__()\n",
    "        self.savepath = savepath\n",
    "        self.history = {}\n",
    "    def on_epoch_end(self, epoch, logs=None):\n",
    "        for k, v in logs.items():\n",
    "            self.history.setdefault(k, []).append(v)\n",
    "        np.save(self.savepath, self.history)\n",
    "\n",
    "def plotKerasLearningCurve():\n",
    "    plt.figure(figsize=(10,5))\n",
    "    metrics = np.load('logs.npy')[()]\n",
    "    filt = ['acc'] # try to add 'loss' to see the loss learning curve\n",
    "    for k in filter(lambda x : np.any([kk in x for kk in filt]), metrics.keys()):\n",
    "        l = np.array(metrics[k])\n",
    "        plt.plot(l, c= 'r' if 'val' not in k else 'b', label='val' if 'val' in k else 'train')\n",
    "        x = np.argmin(l) if 'loss' in k else np.argmax(l)\n",
    "        y = l[x]\n",
    "        plt.scatter(x,y, lw=0, alpha=0.25, s=100, c='r' if 'val' not in k else 'b')\n",
    "        plt.text(x, y, '{} = {:.4f}'.format(x,y), size='15', color= 'r' if 'val' not in k else 'b')   \n",
    "    plt.legend(loc=4)\n",
    "    plt.axis([0, None, None, None]);\n",
    "    plt.grid()\n",
    "    plt.xlabel('Number of epochs')\n",
    "    plt.ylabel('Accuracy')\n",
    "\n",
    "def plot_confusion_matrix(cm, classes,\n",
    "                          normalize=False,\n",
    "                          title='Confusion matrix',\n",
    "                          cmap=plt.cm.Blues):\n",
    "    \"\"\"\n",
    "    This function prints and plots the confusion matrix.\n",
    "    Normalization can be applied by setting `normalize=True`.\n",
    "    \"\"\"\n",
    "    plt.figure(figsize = (5,5))\n",
    "    plt.imshow(cm, interpolation='nearest', cmap=cmap)\n",
    "    plt.title(title)\n",
    "    plt.colorbar()\n",
    "    tick_marks = np.arange(len(classes))\n",
    "    plt.xticks(tick_marks, classes, rotation=90)\n",
    "    plt.yticks(tick_marks, classes)\n",
    "    if normalize:\n",
    "        cm = cm.astype('float') / cm.sum(axis=1)[:, np.newaxis]\n",
    "\n",
    "    thresh = cm.max() / 2.\n",
    "    for i, j in itertools.product(range(cm.shape[0]), range(cm.shape[1])):\n",
    "        plt.text(j, i, cm[i, j],\n",
    "                 horizontalalignment=\"center\",\n",
    "                 color=\"white\" if cm[i, j] > thresh else \"black\")\n",
    "    plt.tight_layout()\n",
    "    plt.ylabel('True label')\n",
    "    plt.xlabel('Predicted label')\n",
    "\n",
    "def plot_learning_curve(history):\n",
    "    plt.figure(figsize=(8,8))\n",
    "    plt.subplot(1,2,1)\n",
    "    plt.plot(history.history['acc'])\n",
    "    plt.plot(history.history['val_acc'])\n",
    "    plt.title('model accuracy')\n",
    "    plt.ylabel('accuracy')\n",
    "    plt.xlabel('epoch')\n",
    "    plt.legend(['train', 'test'], loc='upper left')\n",
    "    plt.savefig('./accuracy_curve.png')\n",
    "    #plt.clf()\n",
    "    # summarize history for loss\n",
    "    plt.subplot(1,2,2)\n",
    "    plt.plot(history.history['loss'])\n",
    "    plt.plot(history.history['val_loss'])\n",
    "    plt.title('model loss')\n",
    "    plt.ylabel('loss')\n",
    "    plt.xlabel('epoch')\n",
    "    plt.legend(['train', 'test'], loc='upper left')\n",
    "    plt.savefig('./loss_curve.png')"
   ]
  },
  {
   "cell_type": "markdown",
   "metadata": {
    "_cell_guid": "b9de4bb4-d04d-4ae3-bffd-5295ebe23fd1",
    "_uuid": "1e079820992076003183f1e48b93916724c465e2"
   },
   "source": [
    "*Step Eight: Evaluate Classification Models*"
   ]
  },
  {
   "cell_type": "code",
   "execution_count": null,
   "metadata": {
    "_cell_guid": "c163fbc8-4f32-4159-a259-c8f3ae49dd60",
    "_uuid": "8a442fcf33637a853819f8909c5c767ce6b39a13",
    "scrolled": true
   },
   "outputs": [],
   "source": [
    "import keras\n",
    "dict_characters = {1:'NEUTROPHIL',2:'EOSINOPHIL',3:'MONOCYTE',4:'LYMPHOCYTE'}\n",
    "dict_characters2 = {0:'Mononuclear',1:'Polynuclear'}\n",
    "def runKerasCNNAugment(a,b,c,d,e):\n",
    "    batch_size = 128\n",
    "    num_classes = len(b[0])\n",
    "    epochs = 30\n",
    "#     img_rows, img_cols = a.shape[1],a.shape[2]\n",
    "    img_rows,img_cols=60,80\n",
    "    input_shape = (img_rows, img_cols, 3)\n",
    "    model = Sequential()\n",
    "    model.add(Conv2D(32, kernel_size=(3, 3),\n",
    "                     activation='relu',\n",
    "                     input_shape=input_shape,strides=e))\n",
    "    model.add(Conv2D(64, (3, 3), activation='relu'))\n",
    "    model.add(MaxPooling2D(pool_size=(2, 2)))\n",
    "    model.add(Dropout(0.25))\n",
    "    model.add(Flatten())\n",
    "    model.add(Dense(128, activation='relu'))\n",
    "    model.add(Dropout(0.5))\n",
    "    model.add(Dense(num_classes, activation='softmax'))\n",
    "    model.compile(loss=keras.losses.categorical_crossentropy,\n",
    "                  optimizer=keras.optimizers.Adadelta(),\n",
    "                  metrics=['accuracy'])\n",
    "    datagen = ImageDataGenerator(\n",
    "        featurewise_center=False,  # set input mean to 0 over the dataset\n",
    "        samplewise_center=False,  # set each sample mean to 0\n",
    "        featurewise_std_normalization=False,  # divide inputs by std of the dataset\n",
    "        samplewise_std_normalization=False,  # divide each input by its std\n",
    "        zca_whitening=False,  # apply ZCA whitening\n",
    "        rotation_range=10,  # randomly rotate images in the range (degrees, 0 to 180)\n",
    "        width_shift_range=0.1,  # randomly shift images horizontally (fraction of total width)\n",
    "        height_shift_range=0.1,  # randomly shift images vertically (fraction of total height)\n",
    "        horizontal_flip=True,  # randomly flip images\n",
    "        vertical_flip=False)  # randomly flip images\n",
    "    history = model.fit_generator(datagen.flow(a,b, batch_size=32),\n",
    "                        steps_per_epoch=len(a) / 32, epochs=epochs, validation_data = [c, d],callbacks = [MetricsCheckpoint('logs')])\n",
    "    score = model.evaluate(c,d, verbose=0)\n",
    "    print('\\nKeras CNN #1C - accuracy:', score[1],'\\n')\n",
    "    y_pred = model.predict(c)\n",
    "    map_characters = dict_characters\n",
    "    print('\\n', sklearn.metrics.classification_report(np.where(d > 0)[1], np.argmax(y_pred, axis=1), target_names=list(map_characters.values())), sep='')    \n",
    "    Y_pred_classes = np.argmax(y_pred,axis=1) \n",
    "    Y_true = np.argmax(d,axis=1)\n",
    "    plotKerasLearningCurve()\n",
    "    plt.show()  \n",
    "    plot_learning_curve(history)\n",
    "    plt.show()\n",
    "    confusion_mtx = confusion_matrix(Y_true, Y_pred_classes) \n",
    "    plot_confusion_matrix(confusion_mtx, classes = list(dict_characters.values())) \n",
    "    plt.show()\n",
    "runKerasCNNAugment(X_train,y_trainHot,X_test,y_testHot,1)"
   ]
  },
  {
   "cell_type": "markdown",
   "metadata": {
    "_cell_guid": "77dd2a6a-d23a-41ab-a3af-fb80ca40994c",
    "_uuid": "539560741e4d287fb14c5f36cbc9549d26e5256e"
   },
   "source": [
    "90% accuracy is much better than random chance!  Now let's see if maybe this model will work better for a binary classification task such as determining whether the cell is polynuclear (e.g. neutrophil and eusinophil) or mononuclear (e.g. every other subtype).  "
   ]
  },
  {
   "cell_type": "code",
   "execution_count": null,
   "metadata": {
    "_cell_guid": "9ed16137-dcc9-4cd5-9fc4-d9e9c85f0beb",
    "_uuid": "2c0c9bb698b7437f9ce726987491d15d4cfb2fbd"
   },
   "outputs": [],
   "source": [
    "dict_characters = dict_characters2\n",
    "runKerasCNNAugment(X_train,z_trainHot,X_test,z_testHot,2)   \n",
    "dict_characters = {1:'NEUTROPHIL',2:'EOSINOPHIL',3:'MONOCYTE',4:'LYMPHOCYTE'}\n",
    "dict_characters2 = {0:'Mononuclear',1:'Polynuclear'}"
   ]
  },
  {
   "cell_type": "markdown",
   "metadata": {
    "_cell_guid": "ccbb185f-ba3f-4feb-b20b-f3cb3b893531",
    "_uuid": "0ff2ec917ffc294aa99be4df44f22e83b2f19305",
    "collapsed": true
   },
   "source": [
    "That worked reasonably well, with 95% accuracy for two categories {1:'MONONUCLEAR',2:'POLYNUCLEAR'} as compared to 85% accuracy for four categories {1:'NEUTROPHIL',2:'EOSINOPHIL',3:'MONOCYTE',4:'LYMPHOCYTE'}.  "
   ]
  },
  {
   "cell_type": "markdown",
   "metadata": {
    "_cell_guid": "d0afe09d-064f-4871-9800-2f95c155b731",
    "_uuid": "c55b9667a15e7ace76a8faf965058729e66f2085"
   },
   "source": [
    "Automated methods like this can be used to save time and improve efficiency in clinical settings."
   ]
  },
  {
   "cell_type": "markdown",
   "metadata": {
    "_cell_guid": "493c729b-65f7-4026-b868-4403b6162eea",
    "_uuid": "d0a730bce511afba5b1b7057e9405d2ad50bf40a",
    "collapsed": true
   },
   "source": [
    "To Do: (1) Evaluate InceptionV3 and VGG16 network architectures"
   ]
  }
 ],
 "metadata": {
  "kernelspec": {
   "display_name": "Python 3",
   "language": "python",
   "name": "python3"
  },
  "language_info": {
   "codemirror_mode": {
    "name": "ipython",
    "version": 3
   },
   "file_extension": ".py",
   "mimetype": "text/x-python",
   "name": "python",
   "nbconvert_exporter": "python",
   "pygments_lexer": "ipython3",
   "version": "3.6.8"
  }
 },
 "nbformat": 4,
 "nbformat_minor": 1
}
